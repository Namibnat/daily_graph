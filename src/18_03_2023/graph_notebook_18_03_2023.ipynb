{
 "cells": [
  {
   "cell_type": "markdown",
   "id": "2a33a10b",
   "metadata": {},
   "source": [
    "# Project: Graph of some Kaggle weather data"
   ]
  },
  {
   "cell_type": "code",
   "execution_count": 1,
   "id": "4373598e",
   "metadata": {},
   "outputs": [],
   "source": [
    "# Standard imports\n",
    "\n",
    "import pandas as pd\n",
    "import numpy as np\n",
    "import matplotlib.pyplot as plt\n",
    "import os\n",
    "from datetime import datetime\n",
    "%matplotlib inline\n"
   ]
  },
  {
   "cell_type": "markdown",
   "id": "d71f9211",
   "metadata": {},
   "source": [
    "## Get Data"
   ]
  },
  {
   "cell_type": "markdown",
   "id": "81834b6a",
   "metadata": {},
   "source": [
    "Data source: https://www.kaggle.com/datasets/muthuj7/weather-dataset"
   ]
  },
  {
   "cell_type": "code",
   "execution_count": 2,
   "id": "5c12069d",
   "metadata": {},
   "outputs": [
    {
     "data": {
      "text/plain": [
       "(366, 22)"
      ]
     },
     "execution_count": 2,
     "metadata": {},
     "output_type": "execute_result"
    }
   ],
   "source": [
    "raw_data = None\n",
    "\n",
    "path = os.path.join('/', *os.getcwd().split('/')[1:-2], '.data')\n",
    "\n",
    "data = pd.read_csv(os.path.join(path, 'weather.csv'))\n",
    "data.shape"
   ]
  },
  {
   "cell_type": "markdown",
   "id": "483d5d3c",
   "metadata": {},
   "source": [
    "## Clean and organize dataframe"
   ]
  },
  {
   "cell_type": "code",
   "execution_count": 3,
   "id": "4e9c4208",
   "metadata": {},
   "outputs": [
    {
     "data": {
      "text/plain": [
       "Index(['MinTemp', 'MaxTemp', 'Rainfall', 'Evaporation', 'Sunshine',\n",
       "       'WindGustDir', 'WindGustSpeed', 'WindDir9am', 'WindDir3pm',\n",
       "       'WindSpeed9am', 'WindSpeed3pm', 'Humidity9am', 'Humidity3pm',\n",
       "       'Pressure9am', 'Pressure3pm', 'Cloud9am', 'Cloud3pm', 'Temp9am',\n",
       "       'Temp3pm', 'RainToday', 'RISK_MM', 'RainTomorrow'],\n",
       "      dtype='object')"
      ]
     },
     "execution_count": 3,
     "metadata": {},
     "output_type": "execute_result"
    }
   ],
   "source": [
    "data.columns"
   ]
  },
  {
   "cell_type": "code",
   "execution_count": null,
   "id": "d951da10",
   "metadata": {},
   "outputs": [],
   "source": []
  },
  {
   "cell_type": "code",
   "execution_count": 4,
   "id": "fc410169",
   "metadata": {},
   "outputs": [
    {
     "data": {
      "text/plain": [
       "WindDir9am\n",
       "E      23.309091\n",
       "ENE    23.400000\n",
       "ESE    22.193103\n",
       "N      21.554839\n",
       "NE     20.675000\n",
       "Name: MaxTemp, dtype: float64"
      ]
     },
     "execution_count": 4,
     "metadata": {},
     "output_type": "execute_result"
    }
   ],
   "source": [
    "means_by_direction = data.groupby('WindDir9am')['MaxTemp'].mean()\n",
    "means_by_direction.head()"
   ]
  },
  {
   "cell_type": "code",
   "execution_count": 5,
   "id": "185fae0b",
   "metadata": {},
   "outputs": [
    {
     "data": {
      "text/plain": [
       "(16,)"
      ]
     },
     "execution_count": 5,
     "metadata": {},
     "output_type": "execute_result"
    }
   ],
   "source": [
    "means_by_direction.shape"
   ]
  },
  {
   "cell_type": "markdown",
   "id": "57cdabf0",
   "metadata": {},
   "source": [
    "## Graph the data"
   ]
  },
  {
   "cell_type": "code",
   "execution_count": 11,
   "id": "50f38420",
   "metadata": {},
   "outputs": [
    {
     "data": {
      "image/png": "[encoded data removed]",
      "text/plain": [
       "<Figure size 640x480 with 1 Axes>"
      ]
     },
     "metadata": {},
     "output_type": "display_data"
    }
   ],
   "source": [
    "# create bar chart\n",
    "means_by_direction.plot(kind='bar')\n",
    "\n",
    "# set plot title and axis labels\n",
    "plt.title('Mean Max Temparatures by Wind Direction at 9 am')\n",
    "plt.xlabel('Wind Direction')\n",
    "plt.ylabel('Max Temparatures')\n",
    "# Save the plot as a .png file\n",
    "plt.savefig(\"max_temp_to_wind_direction.png\")\n",
    "plt.show()"
   ]
  },
  {
   "cell_type": "code",
   "execution_count": 10,
   "id": "43790177",
   "metadata": {},
   "outputs": [
    {
     "data": {
      "text/plain": [
       "<Figure size 640x480 with 0 Axes>"
      ]
     },
     "metadata": {},
     "output_type": "display_data"
    }
   ],
   "source": [
    "# Save the plot as a .png file\n",
    "plt.savefig(\"max_temp_to_wind_direction.png\")"
   ]
  },
  {
   "cell_type": "markdown",
   "id": "858304d0",
   "metadata": {},
   "source": [
    "## Conclusions\n"
   ]
  },
  {
   "cell_type": "markdown",
   "id": "d1d8dd15",
   "metadata": {},
   "source": [
    "The data comes from a Kaggle dataset with poor documentation, and so I don't know where it's from.  But, for this location there is a clear difference in wind direction and temparatures, and West-south-west seems a good deal hotter than west-north-west."
   ]
  }
 ],
 "metadata": {
  "kernelspec": {
   "display_name": "Python 3 (ipykernel)",
   "language": "python",
   "name": "python3"
  },
  "language_info": {
   "codemirror_mode": {
    "name": "ipython",
    "version": 3
   },
   "file_extension": ".py",
   "mimetype": "text/x-python",
   "name": "python",
   "nbconvert_exporter": "python",
   "pygments_lexer": "ipython3",
   "version": "3.9.0"
  }
 },
 "nbformat": 4,
 "nbformat_minor": 5
}

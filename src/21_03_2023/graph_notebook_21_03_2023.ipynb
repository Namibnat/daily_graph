{
 "cells": [
  {
   "cell_type": "markdown",
   "id": "2a33a10b",
   "metadata": {},
   "source": [
    "# Project: Graph of temperature histogram\n"
   ]
  },
  {
   "cell_type": "code",
   "execution_count": 1,
   "id": "4373598e",
   "metadata": {},
   "outputs": [],
   "source": [
    "# Standard imports\n",
    "\n",
    "import pandas as pd\n",
    "import numpy as np\n",
    "import matplotlib.pyplot as plt\n",
    "import os\n",
    "from datetime import datetime\n",
    "%matplotlib inline"
   ]
  },
  {
   "cell_type": "markdown",
   "id": "d71f9211",
   "metadata": {},
   "source": [
    "## Get Data"
   ]
  },
  {
   "cell_type": "markdown",
   "id": "f0be2ed4",
   "metadata": {},
   "source": [
    "Data source: https://www.kaggle.com/datasets/muthuj7/weather-dataset"
   ]
  },
  {
   "cell_type": "code",
   "execution_count": 2,
   "id": "5c12069d",
   "metadata": {},
   "outputs": [
    {
     "data": {
      "text/plain": [
       "(366, 22)"
      ]
     },
     "execution_count": 2,
     "metadata": {},
     "output_type": "execute_result"
    }
   ],
   "source": [
    "path = os.path.join('/', *os.getcwd().split('/')[1:-2], '.data')\n",
    "\n",
    "data = pd.read_csv(os.path.join(path, 'weather.csv'))\n",
    "data.shape"
   ]
  },
  {
   "cell_type": "markdown",
   "id": "483d5d3c",
   "metadata": {},
   "source": [
    "## Clean and organize dataframe"
   ]
  },
  {
   "cell_type": "code",
   "execution_count": 3,
   "id": "4e9c4208",
   "metadata": {},
   "outputs": [
    {
     "data": {
      "text/plain": [
       "Index(['MinTemp', 'MaxTemp', 'Rainfall', 'Evaporation', 'Sunshine',\n",
       "       'WindGustDir', 'WindGustSpeed', 'WindDir9am', 'WindDir3pm',\n",
       "       'WindSpeed9am', 'WindSpeed3pm', 'Humidity9am', 'Humidity3pm',\n",
       "       'Pressure9am', 'Pressure3pm', 'Cloud9am', 'Cloud3pm', 'Temp9am',\n",
       "       'Temp3pm', 'RainToday', 'RISK_MM', 'RainTomorrow'],\n",
       "      dtype='object')"
      ]
     },
     "execution_count": 3,
     "metadata": {},
     "output_type": "execute_result"
    }
   ],
   "source": [
    "data.columns"
   ]
  },
  {
   "cell_type": "code",
   "execution_count": 4,
   "id": "189e9a91",
   "metadata": {},
   "outputs": [
    {
     "name": "stdout",
     "output_type": "stream",
     "text": [
      "Number of missing values: 0\n"
     ]
    }
   ],
   "source": [
    "# Missing values\n",
    "missing_values = data['MinTemp'].isnull().sum()\n",
    "print(f\"Number of missing values: {missing_values}\")"
   ]
  },
  {
   "cell_type": "code",
   "execution_count": 5,
   "id": "c5cd2634",
   "metadata": {},
   "outputs": [
    {
     "name": "stdout",
     "output_type": "stream",
     "text": [
      "Number of duplicate values: 186\n"
     ]
    }
   ],
   "source": [
    "# Duplicate values - There is no issue with duplicates in this data, but leaving the check here for future reference.\n",
    "duplicates = data.duplicated(subset=['MinTemp']).sum()\n",
    "print(f\"Number of duplicate values: {duplicates}\")"
   ]
  },
  {
   "cell_type": "code",
   "execution_count": 6,
   "id": "df384adb",
   "metadata": {},
   "outputs": [
    {
     "name": "stdout",
     "output_type": "stream",
     "text": [
      "Data type of the column: float64\n"
     ]
    }
   ],
   "source": [
    "# Check the data type\n",
    "data_type = data['MinTemp'].dtype\n",
    "print(f\"Data type of the column: {data_type}\")"
   ]
  },
  {
   "cell_type": "code",
   "execution_count": 7,
   "id": "75473617",
   "metadata": {},
   "outputs": [
    {
     "name": "stdout",
     "output_type": "stream",
     "text": [
      "Unique values: [ 8.  14.  13.7 13.3  7.6  6.2  6.1  8.3  8.8  8.4  9.1  8.5 10.1 12.1\n",
      " 12.4 13.8 11.7 15.6 15.3 16.4 12.8 12.  15.4 12.9 15.1 13.6 11.6 16.6\n",
      " 14.5 16.3 17.2 16.5 15.  14.9 11.8  9.6  8.9 15.5 10.8  7.5 12.6 14.8\n",
      " 19.9  9.2 11.3  9.8 14.3 14.4 15.9 16.7 17.5 14.7 20.9 17.  16.  17.9\n",
      " 15.2 10.   9.9 10.3 12.7 13.2 18.  17.6 17.1 18.2 16.8 10.4  8.6 11.2\n",
      " 11.4 11.5 13.   7.7  4.4  7.4  9.5 12.5 13.9 12.3 13.1  7.1  4.2  3.5\n",
      "  5.3  7.   0.4  3.2  5.9  8.1  6.9  5.6  7.2  5.4  6.3  7.9  2.4  2.5\n",
      "  5.   3.8  4.3 -2.1 -1.8  2.1  0.5 -0.9 -0.2  0.1  1.5  9.4  1.3  2.2\n",
      " -0.4  4.5 -2.7  0.3  1.2 -0.3  4.7  4.9  1.4 -0.1  0.6  4.6 10.6  7.8\n",
      " 10.2  7.3  8.7  1.   6.4  4.   0.9  0.8 -1.5  6.6 -1.6 -3.1 -0.6  3.\n",
      "  2.9 -1.3  1.8 -2.6  2.7 -1.7 -1.1  2.3 -2.2 -3.5 -1.  -2.  -2.3 -2.8\n",
      " -1.9  4.8  3.1 -2.9  3.7 -3.4 -5.3  0.  -3.7 -3.3  4.1  5.8  0.2 -2.5\n",
      " -0.5  9.   3.9  0.7  1.1  5.1  6.5  8.2  6.7 11.9  3.4  3.3]\n"
     ]
    }
   ],
   "source": [
    "# Sense check unique values\n",
    "unique_values = data['MinTemp'].unique()\n",
    "print(f\"Unique values: {unique_values}\")"
   ]
  },
  {
   "cell_type": "code",
   "execution_count": 8,
   "id": "f5113f25",
   "metadata": {},
   "outputs": [
    {
     "name": "stdout",
     "output_type": "stream",
     "text": [
      "count    366.000000\n",
      "mean       7.265574\n",
      "std        6.025800\n",
      "min       -5.300000\n",
      "25%        2.300000\n",
      "50%        7.450000\n",
      "75%       12.500000\n",
      "max       20.900000\n",
      "Name: MinTemp, dtype: float64\n"
     ]
    }
   ],
   "source": [
    "# Check a summary of the data\n",
    "summary_stats = data['MinTemp'].describe()\n",
    "print(summary_stats)"
   ]
  },
  {
   "cell_type": "markdown",
   "id": "57cdabf0",
   "metadata": {},
   "source": [
    "## Graph the data"
   ]
  },
  {
   "cell_type": "code",
   "execution_count": 9,
   "id": "50f38420",
   "metadata": {},
   "outputs": [
    {
     "data": {
      "image/png": "[encoded data removed]",
      "text/plain": [
       "<Figure size 640x480 with 1 Axes>"
      ]
     },
     "metadata": {},
     "output_type": "display_data"
    }
   ],
   "source": [
    "data['MinTemp'].plot.hist(color='dodgerblue', edgecolor='#5a5a5a', bins=18)\n",
    "\n",
    "plt.style.use('fivethirtyeight')\n",
    "\n",
    "plt.xlabel('Temperature (°C)')\n",
    "plt.ylabel('Frequency')\n",
    "plt.title('Distribution of Minimum Temperatures')\n",
    "\n",
    "plt.show()"
   ]
  },
  {
   "cell_type": "markdown",
   "id": "858304d0",
   "metadata": {},
   "source": [
    "## Conclusions\n"
   ]
  },
  {
   "cell_type": "markdown",
   "id": "d1d8dd15",
   "metadata": {},
   "source": [
    "The data suggests..."
   ]
  }
 ],
 "metadata": {
  "kernelspec": {
   "display_name": "Python 3 (ipykernel)",
   "language": "python",
   "name": "python3"
  },
  "language_info": {
   "codemirror_mode": {
    "name": "ipython",
    "version": 3
   },
   "file_extension": ".py",
   "mimetype": "text/x-python",
   "name": "python",
   "nbconvert_exporter": "python",
   "pygments_lexer": "ipython3",
   "version": "3.9.0"
  }
 },
 "nbformat": 4,
 "nbformat_minor": 5
}

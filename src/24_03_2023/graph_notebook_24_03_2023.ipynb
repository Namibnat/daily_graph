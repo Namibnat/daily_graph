{
 "cells": [
  {
   "cell_type": "markdown",
   "id": "2a33a10b",
   "metadata": {},
   "source": [
    "# Project: Graph of the estimated number of penguins in each species"
   ]
  },
  {
   "cell_type": "code",
   "execution_count": 28,
   "id": "4373598e",
   "metadata": {},
   "outputs": [],
   "source": [
    "# Standard imports\n",
    "\n",
    "import pandas as pd\n",
    "import numpy as np\n",
    "import matplotlib.pyplot as plt\n",
    "import os\n",
    "from datetime import datetime\n",
    "%matplotlib inline\n",
    "import ssl\n",
    "\n"
   ]
  },
  {
   "cell_type": "markdown",
   "id": "d71f9211",
   "metadata": {},
   "source": [
    "## Get Data"
   ]
  },
  {
   "cell_type": "code",
   "execution_count": 29,
   "id": "5c12069d",
   "metadata": {},
   "outputs": [],
   "source": [
    "ssl._create_default_https_context = ssl._create_unverified_context\n",
    "\n",
    "# Read the table from Wikipedia\n",
    "wikipedia_page_url = \"https://en.wikipedia.org/wiki/List_of_Sphenisciformes_by_population\"\n",
    "\n",
    "tables = pd.read_html(wikipedia_page_url)\n",
    "penguin_data = tables[1]"
   ]
  },
  {
   "cell_type": "markdown",
   "id": "e8fb88f6",
   "metadata": {},
   "source": [
    "## Clean the data"
   ]
  },
  {
   "cell_type": "code",
   "execution_count": 30,
   "id": "4fa1ed00",
   "metadata": {},
   "outputs": [
    {
     "data": {
      "text/plain": [
       "Index(['Common name', 'Binomial name', 'Population', 'Status', 'Trend',\n",
       "       'Notes', 'Image'],\n",
       "      dtype='object')"
      ]
     },
     "execution_count": 30,
     "metadata": {},
     "output_type": "execute_result"
    }
   ],
   "source": [
    "penguin_data.columns"
   ]
  },
  {
   "cell_type": "code",
   "execution_count": 31,
   "id": "8a406fe6",
   "metadata": {},
   "outputs": [
    {
     "data": {
      "text/html": [
       "<div>\n",
       "<style scoped>\n",
       "    .dataframe tbody tr th:only-of-type {\n",
       "        vertical-align: middle;\n",
       "    }\n",
       "\n",
       "    .dataframe tbody tr th {\n",
       "        vertical-align: top;\n",
       "    }\n",
       "\n",
       "    .dataframe thead th {\n",
       "        text-align: right;\n",
       "    }\n",
       "</style>\n",
       "<table border=\"1\" class=\"dataframe\">\n",
       "  <thead>\n",
       "    <tr style=\"text-align: right;\">\n",
       "      <th></th>\n",
       "      <th>Population</th>\n",
       "    </tr>\n",
       "  </thead>\n",
       "  <tbody>\n",
       "    <tr>\n",
       "      <th>0</th>\n",
       "      <td>1800[10]</td>\n",
       "    </tr>\n",
       "    <tr>\n",
       "      <th>1</th>\n",
       "      <td>3300 – 12 000[11]</td>\n",
       "    </tr>\n",
       "    <tr>\n",
       "      <th>2</th>\n",
       "      <td>5000 – 6000[12]</td>\n",
       "    </tr>\n",
       "    <tr>\n",
       "      <th>3</th>\n",
       "      <td>5930 – 6970[13]</td>\n",
       "    </tr>\n",
       "    <tr>\n",
       "      <th>4</th>\n",
       "      <td>75 000 – 80 000[14]</td>\n",
       "    </tr>\n",
       "  </tbody>\n",
       "</table>\n",
       "</div>"
      ],
      "text/plain": [
       "            Population\n",
       "0             1800[10]\n",
       "1    3300 – 12 000[11]\n",
       "2      5000 – 6000[12]\n",
       "3      5930 – 6970[13]\n",
       "4  75 000 – 80 000[14]"
      ]
     },
     "execution_count": 31,
     "metadata": {},
     "output_type": "execute_result"
    }
   ],
   "source": [
    "penguin_data[['Population']].head()"
   ]
  },
  {
   "cell_type": "code",
   "execution_count": 32,
   "id": "3e08fc14",
   "metadata": {},
   "outputs": [
    {
     "name": "stderr",
     "output_type": "stream",
     "text": [
      "/var/folders/hq/g489274d5y15844y8fwwc3bh0000gn/T/ipykernel_15385/804898900.py:11: SettingWithCopyWarning: \n",
      "A value is trying to be set on a copy of a slice from a DataFrame.\n",
      "Try using .loc[row_indexer,col_indexer] = value instead\n",
      "\n",
      "See the caveats in the documentation: https://pandas.pydata.org/pandas-docs/stable/user_guide/indexing.html#returning-a-view-versus-a-copy\n",
      "  penguin_data['Population'] = penguin_data['Population'].astype(int)\n"
     ]
    },
    {
     "data": {
      "text/html": [
       "<div>\n",
       "<style scoped>\n",
       "    .dataframe tbody tr th:only-of-type {\n",
       "        vertical-align: middle;\n",
       "    }\n",
       "\n",
       "    .dataframe tbody tr th {\n",
       "        vertical-align: top;\n",
       "    }\n",
       "\n",
       "    .dataframe thead th {\n",
       "        text-align: right;\n",
       "    }\n",
       "</style>\n",
       "<table border=\"1\" class=\"dataframe\">\n",
       "  <thead>\n",
       "    <tr style=\"text-align: right;\">\n",
       "      <th></th>\n",
       "      <th>Common name</th>\n",
       "      <th>Binomial name</th>\n",
       "      <th>Population</th>\n",
       "      <th>Status</th>\n",
       "      <th>Trend</th>\n",
       "      <th>Notes</th>\n",
       "      <th>Image</th>\n",
       "    </tr>\n",
       "  </thead>\n",
       "  <tbody>\n",
       "    <tr>\n",
       "      <th>0</th>\n",
       "      <td>Galapagos penguin</td>\n",
       "      <td>Spheniscus mendiculus</td>\n",
       "      <td>1800</td>\n",
       "      <td>EN[10]</td>\n",
       "      <td>[10]</td>\n",
       "      <td>NaN</td>\n",
       "      <td>NaN</td>\n",
       "    </tr>\n",
       "    <tr>\n",
       "      <th>5</th>\n",
       "      <td>Snares penguin</td>\n",
       "      <td>Eudyptes robustus</td>\n",
       "      <td>93000</td>\n",
       "      <td>VU[15]</td>\n",
       "      <td>[15]</td>\n",
       "      <td>NaN</td>\n",
       "      <td>NaN</td>\n",
       "    </tr>\n",
       "    <tr>\n",
       "      <th>7</th>\n",
       "      <td>Northern rockhopper penguin</td>\n",
       "      <td>Eudyptes moseleyi</td>\n",
       "      <td>530000</td>\n",
       "      <td>EN[17]</td>\n",
       "      <td>[17]</td>\n",
       "      <td>Only mature individuals were included in the c...</td>\n",
       "      <td>NaN</td>\n",
       "    </tr>\n",
       "    <tr>\n",
       "      <th>8</th>\n",
       "      <td>Emperor penguin</td>\n",
       "      <td>Aptenodytes forsteri</td>\n",
       "      <td>595000</td>\n",
       "      <td>NT[18]</td>\n",
       "      <td>[18]</td>\n",
       "      <td>NaN</td>\n",
       "      <td>NaN</td>\n",
       "    </tr>\n",
       "    <tr>\n",
       "      <th>9</th>\n",
       "      <td>Gentoo penguin</td>\n",
       "      <td>Pygoscelis papua</td>\n",
       "      <td>774000</td>\n",
       "      <td>LC[19]</td>\n",
       "      <td>[19]</td>\n",
       "      <td>Only mature individuals were included in the c...</td>\n",
       "      <td>NaN</td>\n",
       "    </tr>\n",
       "  </tbody>\n",
       "</table>\n",
       "</div>"
      ],
      "text/plain": [
       "                   Common name          Binomial name  Population  Status  \\\n",
       "0            Galapagos penguin  Spheniscus mendiculus        1800  EN[10]   \n",
       "5               Snares penguin      Eudyptes robustus       93000  VU[15]   \n",
       "7  Northern rockhopper penguin      Eudyptes moseleyi      530000  EN[17]   \n",
       "8              Emperor penguin   Aptenodytes forsteri      595000  NT[18]   \n",
       "9               Gentoo penguin       Pygoscelis papua      774000  LC[19]   \n",
       "\n",
       "  Trend                                              Notes  Image  \n",
       "0  [10]                                                NaN    NaN  \n",
       "5  [15]                                                NaN    NaN  \n",
       "7  [17]  Only mature individuals were included in the c...    NaN  \n",
       "8  [18]                                                NaN    NaN  \n",
       "9  [19]  Only mature individuals were included in the c...    NaN  "
      ]
     },
     "execution_count": 32,
     "metadata": {},
     "output_type": "execute_result"
    }
   ],
   "source": [
    "def clean_population(population):\n",
    "    population = str(population).split('[')[0] # remove text inside []\n",
    "    population = population.replace(',', '') # remove commas\n",
    "    population = population.replace(' ', '') # remove spaces\n",
    "    if '-' in population: # if there's a range, take the upper bound\n",
    "        population = population.split('-')[1]\n",
    "    return population\n",
    "\n",
    "penguin_data.loc[:, 'Population'] = penguin_data['Population'].apply(clean_population)\n",
    "penguin_data = penguin_data[penguin_data['Population'].str.isnumeric()]\n",
    "penguin_data['Population'] = penguin_data['Population'].astype(int)\n",
    "\n",
    "penguin_data.head()"
   ]
  },
  {
   "cell_type": "code",
   "execution_count": 33,
   "id": "e88bc601",
   "metadata": {},
   "outputs": [
    {
     "data": {
      "text/plain": [
       "Index(['Common name', 'Binomial name', 'Population', 'Status', 'Trend',\n",
       "       'Notes', 'Image'],\n",
       "      dtype='object')"
      ]
     },
     "execution_count": 33,
     "metadata": {},
     "output_type": "execute_result"
    }
   ],
   "source": [
    "penguin_data.columns"
   ]
  },
  {
   "cell_type": "code",
   "execution_count": 34,
   "id": "ac308ef4",
   "metadata": {},
   "outputs": [
    {
     "data": {
      "text/html": [
       "<div>\n",
       "<style scoped>\n",
       "    .dataframe tbody tr th:only-of-type {\n",
       "        vertical-align: middle;\n",
       "    }\n",
       "\n",
       "    .dataframe tbody tr th {\n",
       "        vertical-align: top;\n",
       "    }\n",
       "\n",
       "    .dataframe thead th {\n",
       "        text-align: right;\n",
       "    }\n",
       "</style>\n",
       "<table border=\"1\" class=\"dataframe\">\n",
       "  <thead>\n",
       "    <tr style=\"text-align: right;\">\n",
       "      <th></th>\n",
       "      <th>Common name</th>\n",
       "      <th>Population</th>\n",
       "    </tr>\n",
       "  </thead>\n",
       "  <tbody>\n",
       "    <tr>\n",
       "      <th>0</th>\n",
       "      <td>Galapagos penguin</td>\n",
       "      <td>1800</td>\n",
       "    </tr>\n",
       "    <tr>\n",
       "      <th>5</th>\n",
       "      <td>Snares penguin</td>\n",
       "      <td>93000</td>\n",
       "    </tr>\n",
       "    <tr>\n",
       "      <th>7</th>\n",
       "      <td>Northern rockhopper penguin</td>\n",
       "      <td>530000</td>\n",
       "    </tr>\n",
       "    <tr>\n",
       "      <th>8</th>\n",
       "      <td>Emperor penguin</td>\n",
       "      <td>595000</td>\n",
       "    </tr>\n",
       "    <tr>\n",
       "      <th>9</th>\n",
       "      <td>Gentoo penguin</td>\n",
       "      <td>774000</td>\n",
       "    </tr>\n",
       "  </tbody>\n",
       "</table>\n",
       "</div>"
      ],
      "text/plain": [
       "                   Common name  Population\n",
       "0            Galapagos penguin        1800\n",
       "5               Snares penguin       93000\n",
       "7  Northern rockhopper penguin      530000\n",
       "8              Emperor penguin      595000\n",
       "9               Gentoo penguin      774000"
      ]
     },
     "execution_count": 34,
     "metadata": {},
     "output_type": "execute_result"
    }
   ],
   "source": [
    "penguin_data = penguin_data[['Common name', 'Population']]\n",
    "penguin_data.head()"
   ]
  },
  {
   "cell_type": "markdown",
   "id": "483d5d3c",
   "metadata": {},
   "source": [
    "## Clean and organize dataframe"
   ]
  },
  {
   "cell_type": "code",
   "execution_count": 36,
   "id": "4e9c4208",
   "metadata": {},
   "outputs": [
    {
     "data": {
      "image/png": "[encoded data removed]",
      "text/plain": [
       "<Figure size 1000x600 with 1 Axes>"
      ]
     },
     "metadata": {},
     "output_type": "display_data"
    }
   ],
   "source": [
    "from matplotlib.offsetbox import AnnotationBbox, OffsetImage\n",
    "\n",
    "# Load the background image\n",
    "img = plt.imread('penguin_bg.png')\n",
    "\n",
    "# Create the plot\n",
    "fig, ax = plt.subplots(figsize=(10, 6))\n",
    "\n",
    "# Add the background image\n",
    "ax.imshow(img, extent=[0, 1, 0, 1], aspect='auto')\n",
    "\n",
    "# Plot the bar chart\n",
    "penguin_data.plot(kind='barh', x='Common name', y='Population', ax=ax, color='orange')\n",
    "\n",
    "# Set the title and axis labels\n",
    "ax.set_title('Penguin Population')\n",
    "ax.set_xlabel('Population')\n",
    "ax.set_ylabel('Common Name')\n",
    "\n",
    "# Show the plot\n",
    "plt.show()"
   ]
  },
  {
   "cell_type": "markdown",
   "id": "57cdabf0",
   "metadata": {},
   "source": [
    "## Graph the data"
   ]
  },
  {
   "cell_type": "code",
   "execution_count": null,
   "id": "50f38420",
   "metadata": {},
   "outputs": [],
   "source": [
    "plt.plot(data)"
   ]
  },
  {
   "cell_type": "markdown",
   "id": "858304d0",
   "metadata": {},
   "source": [
    "## Conclusions\n"
   ]
  },
  {
   "cell_type": "markdown",
   "id": "d1d8dd15",
   "metadata": {},
   "source": [
    "The data suggests..."
   ]
  }
 ],
 "metadata": {
  "kernelspec": {
   "display_name": "Python 3 (ipykernel)",
   "language": "python",
   "name": "python3"
  },
  "language_info": {
   "codemirror_mode": {
    "name": "ipython",
    "version": 3
   },
   "file_extension": ".py",
   "mimetype": "text/x-python",
   "name": "python",
   "nbconvert_exporter": "python",
   "pygments_lexer": "ipython3",
   "version": "3.9.0"
  }
 },
 "nbformat": 4,
 "nbformat_minor": 5
}

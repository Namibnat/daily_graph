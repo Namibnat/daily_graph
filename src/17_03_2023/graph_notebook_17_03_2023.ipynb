{
 "cells": [
  {
   "cell_type": "markdown",
   "id": "2a33a10b",
   "metadata": {},
   "source": [
    "# Project: Graph of ..."
   ]
  },
  {
   "cell_type": "code",
   "execution_count": 9,
   "id": "4373598e",
   "metadata": {},
   "outputs": [],
   "source": [
    "# Standard imports\n",
    "\n",
    "import os\n",
    "from datetime import datetime\n",
    "import io\n",
    "\n",
    "import pandas as pd\n",
    "import numpy as np\n",
    "import matplotlib.pyplot as plt\n",
    "%matplotlib inline\n"
   ]
  },
  {
   "cell_type": "markdown",
   "id": "d71f9211",
   "metadata": {},
   "source": [
    "## Get Data"
   ]
  },
  {
   "cell_type": "code",
   "execution_count": 10,
   "id": "5c12069d",
   "metadata": {},
   "outputs": [],
   "source": [
    "# Terra Australis Research Consortium\n",
    "\n",
    "# Team Work Duration on the research team.\n",
    "\n",
    "raw_csv_string = \"\"\"Name,Start Date,End Date,Age\n",
    "James,2019-06-01,2027-06-10,28\n",
    "Emma,2025-07-14,2032-07-24,39\n",
    "Ethan,2021-08-03,2029-08-12,28\n",
    "Olivia,2027-02-19,2033-02-28,49\n",
    "Noah,2022-05-22,2026-05-31,38\n",
    "Ava,2020-11-26,2030-12-06,30\n",
    "Liam,2026-02-06,2028-02-15,28\n",
    "Sophia,2021-12-17,2032-12-27,21\n",
    "Mason,2023-04-09,2029-04-19,50\n",
    "Isabella,2023-09-05,2033-09-14,52\n",
    "William,2015-11-28,2026-12-08,43\n",
    "Mia,2021-06-25,2031-07-05,19\n",
    "Benjamin,2022-05-18,2032-05-28,34\n",
    "Charlotte,2020-9-12,2030-10-22,43\n",
    "Elijah,2023-04-23,2033-05-03,24\n",
    "Amelia,2024-10-10,2029-10-20,27\n",
    "Lucas,2022-01-09,2032-01-19,38\n",
    "Abigail,2019-02-27,2029-03-09,51\n",
    "Alexander,2020-08-22,2030-09-01,42\n",
    "Harper,2023-10-05,2033-10-15,23\"\"\""
   ]
  },
  {
   "cell_type": "markdown",
   "id": "adf4ef72",
   "metadata": {},
   "source": [
    "The Terra Australis Research Consortium sent a team of scientists and researchers to the Antarctic region to study the ecology and geology of the area. The team, comprised of individuals from around the world, spent a period of several months conducting research on everything from the movement of ice shelves to the breeding habits of penguin populations.\n",
    "\n",
    "During their time in the field, the team members braved harsh weather conditions and challenging terrain to collect data on a variety of different variables. This data is a simple log of the individuals time spent with the consortium.\n",
    "\n",
    "Once their research was complete, the team returned to their home institutions to analyze the data and draw conclusions about the unique and fascinating ecosystem of the Antarctic region. Their work helped shed new light on this remote and mysterious corner of the world, and provided valuable insights into the complex interplay between living organisms and the environment in which they live.\n",
    "\n",
    "Reference for this made up story and the data: chatGPT.  Thanks chatGPT."
   ]
  },
  {
   "cell_type": "code",
   "execution_count": 11,
   "id": "94612c03",
   "metadata": {},
   "outputs": [],
   "source": [
    "# Create an io.StringIO object and write the CSV string to it\n",
    "csv_buffer = io.StringIO()\n",
    "csv_buffer.write(raw_csv_string)\n",
    "\n",
    "# Set the buffer's current position to the beginning of the buffer\n",
    "csv_buffer.seek(0)\n",
    "\n",
    "# Read the file-like object using read_csv()\n",
    "df = pd.read_csv(csv_buffer)"
   ]
  },
  {
   "cell_type": "markdown",
   "id": "ac3df299",
   "metadata": {},
   "source": [
    "## Clean and organize dataframe"
   ]
  },
  {
   "cell_type": "code",
   "execution_count": 13,
   "id": "c949118b",
   "metadata": {},
   "outputs": [
    {
     "data": {
      "text/html": [
       "<div>\n",
       "<style scoped>\n",
       "    .dataframe tbody tr th:only-of-type {\n",
       "        vertical-align: middle;\n",
       "    }\n",
       "\n",
       "    .dataframe tbody tr th {\n",
       "        vertical-align: top;\n",
       "    }\n",
       "\n",
       "    .dataframe thead th {\n",
       "        text-align: right;\n",
       "    }\n",
       "</style>\n",
       "<table border=\"1\" class=\"dataframe\">\n",
       "  <thead>\n",
       "    <tr style=\"text-align: right;\">\n",
       "      <th></th>\n",
       "      <th>Name</th>\n",
       "      <th>Start Date</th>\n",
       "      <th>End Date</th>\n",
       "      <th>Age</th>\n",
       "    </tr>\n",
       "  </thead>\n",
       "  <tbody>\n",
       "    <tr>\n",
       "      <th>0</th>\n",
       "      <td>James</td>\n",
       "      <td>2019-06-01</td>\n",
       "      <td>2027-06-10</td>\n",
       "      <td>28</td>\n",
       "    </tr>\n",
       "    <tr>\n",
       "      <th>1</th>\n",
       "      <td>Emma</td>\n",
       "      <td>2025-07-14</td>\n",
       "      <td>2032-07-24</td>\n",
       "      <td>39</td>\n",
       "    </tr>\n",
       "    <tr>\n",
       "      <th>2</th>\n",
       "      <td>Ethan</td>\n",
       "      <td>2021-08-03</td>\n",
       "      <td>2029-08-12</td>\n",
       "      <td>28</td>\n",
       "    </tr>\n",
       "    <tr>\n",
       "      <th>3</th>\n",
       "      <td>Olivia</td>\n",
       "      <td>2027-02-19</td>\n",
       "      <td>2033-02-28</td>\n",
       "      <td>49</td>\n",
       "    </tr>\n",
       "    <tr>\n",
       "      <th>4</th>\n",
       "      <td>Noah</td>\n",
       "      <td>2022-05-22</td>\n",
       "      <td>2026-05-31</td>\n",
       "      <td>38</td>\n",
       "    </tr>\n",
       "  </tbody>\n",
       "</table>\n",
       "</div>"
      ],
      "text/plain": [
       "     Name Start Date   End Date  Age\n",
       "0   James 2019-06-01 2027-06-10   28\n",
       "1    Emma 2025-07-14 2032-07-24   39\n",
       "2   Ethan 2021-08-03 2029-08-12   28\n",
       "3  Olivia 2027-02-19 2033-02-28   49\n",
       "4    Noah 2022-05-22 2026-05-31   38"
      ]
     },
     "execution_count": 13,
     "metadata": {},
     "output_type": "execute_result"
    }
   ],
   "source": [
    "# Convert \"Start Date\" and \"End Date\" columns to datetime format\n",
    "df[\"Start Date\"] = pd.to_datetime(df[\"Start Date\"])\n",
    "df[\"End Date\"] = pd.to_datetime(df[\"End Date\"])\n",
    "\n",
    "df.head()"
   ]
  },
  {
   "cell_type": "code",
   "execution_count": 14,
   "id": "d4395c51",
   "metadata": {},
   "outputs": [
    {
     "data": {
      "text/html": [
       "<div>\n",
       "<style scoped>\n",
       "    .dataframe tbody tr th:only-of-type {\n",
       "        vertical-align: middle;\n",
       "    }\n",
       "\n",
       "    .dataframe tbody tr th {\n",
       "        vertical-align: top;\n",
       "    }\n",
       "\n",
       "    .dataframe thead th {\n",
       "        text-align: right;\n",
       "    }\n",
       "</style>\n",
       "<table border=\"1\" class=\"dataframe\">\n",
       "  <thead>\n",
       "    <tr style=\"text-align: right;\">\n",
       "      <th></th>\n",
       "      <th>Name</th>\n",
       "      <th>Start Date</th>\n",
       "      <th>End Date</th>\n",
       "      <th>Age</th>\n",
       "      <th>Duration</th>\n",
       "    </tr>\n",
       "  </thead>\n",
       "  <tbody>\n",
       "    <tr>\n",
       "      <th>0</th>\n",
       "      <td>James</td>\n",
       "      <td>2019-06-01</td>\n",
       "      <td>2027-06-10</td>\n",
       "      <td>28</td>\n",
       "      <td>2931</td>\n",
       "    </tr>\n",
       "    <tr>\n",
       "      <th>1</th>\n",
       "      <td>Emma</td>\n",
       "      <td>2025-07-14</td>\n",
       "      <td>2032-07-24</td>\n",
       "      <td>39</td>\n",
       "      <td>2567</td>\n",
       "    </tr>\n",
       "    <tr>\n",
       "      <th>2</th>\n",
       "      <td>Ethan</td>\n",
       "      <td>2021-08-03</td>\n",
       "      <td>2029-08-12</td>\n",
       "      <td>28</td>\n",
       "      <td>2931</td>\n",
       "    </tr>\n",
       "    <tr>\n",
       "      <th>3</th>\n",
       "      <td>Olivia</td>\n",
       "      <td>2027-02-19</td>\n",
       "      <td>2033-02-28</td>\n",
       "      <td>49</td>\n",
       "      <td>2201</td>\n",
       "    </tr>\n",
       "    <tr>\n",
       "      <th>4</th>\n",
       "      <td>Noah</td>\n",
       "      <td>2022-05-22</td>\n",
       "      <td>2026-05-31</td>\n",
       "      <td>38</td>\n",
       "      <td>1470</td>\n",
       "    </tr>\n",
       "  </tbody>\n",
       "</table>\n",
       "</div>"
      ],
      "text/plain": [
       "     Name Start Date   End Date  Age  Duration\n",
       "0   James 2019-06-01 2027-06-10   28      2931\n",
       "1    Emma 2025-07-14 2032-07-24   39      2567\n",
       "2   Ethan 2021-08-03 2029-08-12   28      2931\n",
       "3  Olivia 2027-02-19 2033-02-28   49      2201\n",
       "4    Noah 2022-05-22 2026-05-31   38      1470"
      ]
     },
     "execution_count": 14,
     "metadata": {},
     "output_type": "execute_result"
    }
   ],
   "source": [
    "# Calculate the number of days between \"Start Date\" and \"End Date\" and store it in a new \"Duration\" column\n",
    "df[\"Duration\"] = (df[\"End Date\"] - df[\"Start Date\"]).dt.days\n",
    "\n",
    "df.head()"
   ]
  },
  {
   "cell_type": "markdown",
   "id": "57cdabf0",
   "metadata": {},
   "source": [
    "## Graph the data"
   ]
  },
  {
   "cell_type": "code",
   "execution_count": 15,
   "id": "50f38420",
   "metadata": {},
   "outputs": [
    {
     "data": {
      "image/png": "[encoded data removed]",
      "text/plain": [
       "<Figure size 640x480 with 1 Axes>"
      ]
     },
     "metadata": {},
     "output_type": "display_data"
    }
   ],
   "source": [
    "# Create a scatter plot of age vs. duration\n",
    "plt.scatter(df['Age'], df['Duration'])\n",
    "plt.xlabel('Age')\n",
    "plt.ylabel('Duration (days)')\n",
    "plt.title('Age vs. Duration')\n",
    "plt.show()"
   ]
  },
  {
   "cell_type": "markdown",
   "id": "858304d0",
   "metadata": {},
   "source": [
    "## Conclusions\n"
   ]
  },
  {
   "cell_type": "markdown",
   "id": "d1d8dd15",
   "metadata": {},
   "source": [
    "The data suggests...well, nothing really :). Maybe tomorrow."
   ]
  }
 ],
 "metadata": {
  "kernelspec": {
   "display_name": "Python 3 (ipykernel)",
   "language": "python",
   "name": "python3"
  },
  "language_info": {
   "codemirror_mode": {
    "name": "ipython",
    "version": 3
   },
   "file_extension": ".py",
   "mimetype": "text/x-python",
   "name": "python",
   "nbconvert_exporter": "python",
   "pygments_lexer": "ipython3",
   "version": "3.9.0"
  }
 },
 "nbformat": 4,
 "nbformat_minor": 5
}

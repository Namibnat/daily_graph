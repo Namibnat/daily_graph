{
 "cells": [
  {
   "cell_type": "markdown",
   "id": "2a33a10b",
   "metadata": {},
   "source": [
    "# Project: Graph of Penguin stuff"
   ]
  },
  {
   "cell_type": "code",
   "execution_count": 1,
   "id": "4373598e",
   "metadata": {},
   "outputs": [],
   "source": [
    "# Standard imports\n",
    "\n",
    "import pandas as pd\n",
    "import numpy as np\n",
    "import matplotlib.pyplot as plt\n",
    "import os\n",
    "from datetime import datetime\n",
    "import ssl\n",
    "import requests\n",
    "\n",
    "%matplotlib inline\n"
   ]
  },
  {
   "cell_type": "markdown",
   "id": "10b2895f",
   "metadata": {},
   "source": [
    "Notes:\n",
    "\n",
    "Today I just worked through one of the examples form the Matplotlib examples in their documentation.  I just wanted to be sure I fully understand what they have done.  This code, without all my comments can be found here:\n",
    "\n",
    "https://matplotlib.org/stable/gallery/lines_bars_and_markers/bar_label_demo.html#sphx-glr-gallery-lines-bars-and-markers-bar-label-demo-py\n",
    "\n",
    "Also note, I just love penguins, so...😊"
   ]
  },
  {
   "cell_type": "markdown",
   "id": "d71f9211",
   "metadata": {},
   "source": [
    "## Get Data"
   ]
  },
  {
   "cell_type": "code",
   "execution_count": 2,
   "id": "5c12069d",
   "metadata": {},
   "outputs": [],
   "source": [
    "species = ('Adelie', 'Chinstrap', 'Gentoo')\n",
    "sex_counts = {\n",
    "    'Male': np.array([73, 34, 61]),\n",
    "    'Female': np.array([73, 34, 58]),\n",
    "}"
   ]
  },
  {
   "cell_type": "markdown",
   "id": "483d5d3c",
   "metadata": {},
   "source": [
    "## Clean and organize dataframe"
   ]
  },
  {
   "cell_type": "code",
   "execution_count": 3,
   "id": "4e9c4208",
   "metadata": {},
   "outputs": [
    {
     "name": "stdout",
     "output_type": "stream",
     "text": [
      "Sex: Male, Sex Count: [73 34 61]\n",
      "Sex: Female, Sex Count: [73 34 58]\n"
     ]
    }
   ],
   "source": [
    "for sex, sex_count in sex_counts.items():\n",
    "    print(f\"Sex: {sex}, Sex Count: {sex_count}\")"
   ]
  },
  {
   "cell_type": "code",
   "execution_count": 7,
   "id": "f245f6a9",
   "metadata": {},
   "outputs": [],
   "source": [
    "colors = ('#7D5842', '#BEB75C')\n"
   ]
  },
  {
   "cell_type": "markdown",
   "id": "57cdabf0",
   "metadata": {},
   "source": [
    "## Graph the data"
   ]
  },
  {
   "cell_type": "code",
   "execution_count": 8,
   "id": "3f380dda",
   "metadata": {},
   "outputs": [],
   "source": [
    "data_stuff = []"
   ]
  },
  {
   "cell_type": "code",
   "execution_count": 10,
   "id": "3a76949e",
   "metadata": {},
   "outputs": [
    {
     "data": {
      "image/png": "[encoded data removed]",
      "text/plain": [
       "<Figure size 640x480 with 1 Axes>"
      ]
     },
     "metadata": {},
     "output_type": "display_data"
    }
   ],
   "source": [
    "counter = 0\n",
    "\n",
    "# The widths of the bar\n",
    "width = 0.6\n",
    "\n",
    "fig, ax = plt.subplots()\n",
    "bottom = np.zeros(3)\n",
    "\n",
    "data_stuff.append(bottom)\n",
    "\n",
    "for sex, sex_count in sex_counts.items():\n",
    "    # Sex is a string: Male or Female\n",
    "    # sex_count -> Is a numpy array of the counts for each species\n",
    "    #              \n",
    "    p = ax.bar(\n",
    "        species,  # ('Adelie', 'Chinstrap', 'Gentoo')\n",
    "        sex_count,  # Is a numpy array, eg array([146.,  68., 119.]) -> the height of each portion of the bar\n",
    "        width, # How wide each bar will be\n",
    "        label=sex,  # Male / Female\n",
    "        # This is where each bar starts on the bottom array([0, 0, 0])\n",
    "        # It starts with zero, so the Male bar starts at the bottom of the graph       \n",
    "        # Then it adds the heights of the male measurements as the starting point for the female one\n",
    "        bottom=bottom,\n",
    "        color=colors[counter])\n",
    "    \n",
    "    counter += 1      \n",
    "    bottom += (sex_count + 2)  # I've just increased it by 2 to show a small gap, just to make it clear this\n",
    "                               # is adding the difference in height.\n",
    "\n",
    "    ax.bar_label(p, label_type='center')  # Other options could be 'edge'\n",
    "\n",
    "ax.set_title('Number of penguins by sex')\n",
    "\n",
    "legend = ax.legend()\n",
    "legend.get_frame().set_facecolor('lightgray')\n",
    "\n",
    "fig.patch.set_facecolor('#F0ECE3')\n",
    "ax.set_facecolor('#F0ECE3')\n",
    "\n",
    "\n",
    "plt.show()"
   ]
  },
  {
   "cell_type": "markdown",
   "id": "858304d0",
   "metadata": {},
   "source": [
    "## Conclusions\n"
   ]
  },
  {
   "cell_type": "markdown",
   "id": "d1d8dd15",
   "metadata": {},
   "source": [
    "The data suggests...nothing...that I'm learning more"
   ]
  }
 ],
 "metadata": {
  "kernelspec": {
   "display_name": "Python 3 (ipykernel)",
   "language": "python",
   "name": "python3"
  },
  "language_info": {
   "codemirror_mode": {
    "name": "ipython",
    "version": 3
   },
   "file_extension": ".py",
   "mimetype": "text/x-python",
   "name": "python",
   "nbconvert_exporter": "python",
   "pygments_lexer": "ipython3",
   "version": "3.9.0"
  }
 },
 "nbformat": 4,
 "nbformat_minor": 5
}
